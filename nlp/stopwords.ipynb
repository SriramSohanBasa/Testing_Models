{
 "cells": [
  {
   "cell_type": "code",
   "execution_count": 8,
   "metadata": {},
   "outputs": [],
   "source": [
    "import nltk\n",
    "from nltk.corpus import stopwords"
   ]
  },
  {
   "cell_type": "code",
   "execution_count": 9,
   "metadata": {},
   "outputs": [
    {
     "data": {
      "text/plain": [
       "['i',\n",
       " 'me',\n",
       " 'my',\n",
       " 'myself',\n",
       " 'we',\n",
       " 'our',\n",
       " 'ours',\n",
       " 'ourselves',\n",
       " 'you',\n",
       " \"you're\",\n",
       " \"you've\",\n",
       " \"you'll\",\n",
       " \"you'd\",\n",
       " 'your',\n",
       " 'yours',\n",
       " 'yourself',\n",
       " 'yourselves',\n",
       " 'he',\n",
       " 'him',\n",
       " 'his',\n",
       " 'himself',\n",
       " 'she',\n",
       " \"she's\",\n",
       " 'her',\n",
       " 'hers',\n",
       " 'herself',\n",
       " 'it',\n",
       " \"it's\",\n",
       " 'its',\n",
       " 'itself',\n",
       " 'they',\n",
       " 'them',\n",
       " 'their',\n",
       " 'theirs',\n",
       " 'themselves',\n",
       " 'what',\n",
       " 'which',\n",
       " 'who',\n",
       " 'whom',\n",
       " 'this',\n",
       " 'that',\n",
       " \"that'll\",\n",
       " 'these',\n",
       " 'those',\n",
       " 'am',\n",
       " 'is',\n",
       " 'are',\n",
       " 'was',\n",
       " 'were',\n",
       " 'be',\n",
       " 'been',\n",
       " 'being',\n",
       " 'have',\n",
       " 'has',\n",
       " 'had',\n",
       " 'having',\n",
       " 'do',\n",
       " 'does',\n",
       " 'did',\n",
       " 'doing',\n",
       " 'a',\n",
       " 'an',\n",
       " 'the',\n",
       " 'and',\n",
       " 'but',\n",
       " 'if',\n",
       " 'or',\n",
       " 'because',\n",
       " 'as',\n",
       " 'until',\n",
       " 'while',\n",
       " 'of',\n",
       " 'at',\n",
       " 'by',\n",
       " 'for',\n",
       " 'with',\n",
       " 'about',\n",
       " 'against',\n",
       " 'between',\n",
       " 'into',\n",
       " 'through',\n",
       " 'during',\n",
       " 'before',\n",
       " 'after',\n",
       " 'above',\n",
       " 'below',\n",
       " 'to',\n",
       " 'from',\n",
       " 'up',\n",
       " 'down',\n",
       " 'in',\n",
       " 'out',\n",
       " 'on',\n",
       " 'off',\n",
       " 'over',\n",
       " 'under',\n",
       " 'again',\n",
       " 'further',\n",
       " 'then',\n",
       " 'once',\n",
       " 'here',\n",
       " 'there',\n",
       " 'when',\n",
       " 'where',\n",
       " 'why',\n",
       " 'how',\n",
       " 'all',\n",
       " 'any',\n",
       " 'both',\n",
       " 'each',\n",
       " 'few',\n",
       " 'more',\n",
       " 'most',\n",
       " 'other',\n",
       " 'some',\n",
       " 'such',\n",
       " 'no',\n",
       " 'nor',\n",
       " 'not',\n",
       " 'only',\n",
       " 'own',\n",
       " 'same',\n",
       " 'so',\n",
       " 'than',\n",
       " 'too',\n",
       " 'very',\n",
       " 's',\n",
       " 't',\n",
       " 'can',\n",
       " 'will',\n",
       " 'just',\n",
       " 'don',\n",
       " \"don't\",\n",
       " 'should',\n",
       " \"should've\",\n",
       " 'now',\n",
       " 'd',\n",
       " 'll',\n",
       " 'm',\n",
       " 'o',\n",
       " 're',\n",
       " 've',\n",
       " 'y',\n",
       " 'ain',\n",
       " 'aren',\n",
       " \"aren't\",\n",
       " 'couldn',\n",
       " \"couldn't\",\n",
       " 'didn',\n",
       " \"didn't\",\n",
       " 'doesn',\n",
       " \"doesn't\",\n",
       " 'hadn',\n",
       " \"hadn't\",\n",
       " 'hasn',\n",
       " \"hasn't\",\n",
       " 'haven',\n",
       " \"haven't\",\n",
       " 'isn',\n",
       " \"isn't\",\n",
       " 'ma',\n",
       " 'mightn',\n",
       " \"mightn't\",\n",
       " 'mustn',\n",
       " \"mustn't\",\n",
       " 'needn',\n",
       " \"needn't\",\n",
       " 'shan',\n",
       " \"shan't\",\n",
       " 'shouldn',\n",
       " \"shouldn't\",\n",
       " 'wasn',\n",
       " \"wasn't\",\n",
       " 'weren',\n",
       " \"weren't\",\n",
       " 'won',\n",
       " \"won't\",\n",
       " 'wouldn',\n",
       " \"wouldn't\"]"
      ]
     },
     "execution_count": 9,
     "metadata": {},
     "output_type": "execute_result"
    }
   ],
   "source": [
    "stopwords.words('english')"
   ]
  },
  {
   "cell_type": "code",
   "execution_count": 14,
   "metadata": {},
   "outputs": [],
   "source": [
    "para = \"\"\"Once upon a time in a small village nestled between green hills and a sparkling river, lived a young girl named Lila. Lila had a wild imagination and a heart full of dreams. Every evening, she would sit by the riverbank, watching the golden sun dip below the horizon, dreaming of far-off lands and grand adventures.\n",
    "\n",
    "One day, while exploring the forest nearby, she stumbled upon a peculiar stone. It was smooth and shimmering, unlike anything she had ever seen. Intrigued, she picked it up and felt a sudden warmth radiate through her fingers. Just as she examined it closer, a soft voice echoed, “Lila, your heart’s desire awaits.”\n",
    "\n",
    "Startled, she looked around but saw no one. Believing it to be her imagination, she laughed, but a strange urge to follow her instincts pushed her forward. She wandered deeper into the forest, clutching the stone tightly, until she reached an ancient oak tree. Beneath its roots was a tiny, shimmering door.\n",
    "\n",
    "Taking a deep breath, she opened it and found herself in a world beyond imagination. Lush fields stretched endlessly, and creatures of all kinds—gentle deer with golden antlers, singing birds with silver feathers—greeted her with smiles. In this world, Lila felt a sense of belonging like never before. She wandered through crystal-clear rivers and climbed mystical mountains, her heart filled with awe and wonder.\n",
    "\n",
    "But as the sun began to set, she felt a gentle pull guiding her back. The creatures waved goodbye, and she walked back through the tiny door, which vanished the moment she closed it behind her.\n",
    "\n",
    "From that day forward, Lila returned to her village, forever changed. She knew magic existed, and her dreams were no longer just dreams. They were memories, cherished forever.\"\"\""
   ]
  },
  {
   "cell_type": "code",
   "execution_count": 15,
   "metadata": {},
   "outputs": [],
   "source": [
    "from nltk.stem import PorterStemmer"
   ]
  },
  {
   "cell_type": "code",
   "execution_count": 16,
   "metadata": {},
   "outputs": [],
   "source": [
    "porter_stemmer = PorterStemmer()"
   ]
  },
  {
   "cell_type": "code",
   "execution_count": 18,
   "metadata": {},
   "outputs": [],
   "source": [
    "sentences=nltk.sent_tokenize(para)"
   ]
  },
  {
   "cell_type": "code",
   "execution_count": 19,
   "metadata": {},
   "outputs": [],
   "source": [
    "##apply stopwords and filter and then apply stemming\n",
    "\n",
    "for i in range(len(sentences)):\n",
    "    words = nltk.word_tokenize(sentences[i])\n",
    "    words = [porter_stemmer.stem(word) for word in words if word not in set(stopwords.words('english'))]\n",
    "    sentences[i] = ' '.join(words) ##converting all words to sentences"
   ]
  },
  {
   "cell_type": "code",
   "execution_count": 20,
   "metadata": {},
   "outputs": [
    {
     "data": {
      "text/plain": [
       "['onc upon time small villag nestl green hill sparkl river , live young girl name lila .',\n",
       " 'lila wild imagin heart full dream .',\n",
       " 'everi even , would sit riverbank , watch golden sun dip horizon , dream far-off land grand adventur .',\n",
       " 'one day , explor forest nearbi , stumbl upon peculiar stone .',\n",
       " 'it smooth shimmer , unlik anyth ever seen .',\n",
       " 'intrigu , pick felt sudden warmth radiat finger .',\n",
       " 'just examin closer , soft voic echo , “ lila , heart ’ desir awaits. ” startl , look around saw one .',\n",
       " 'believ imagin , laugh , strang urg follow instinct push forward .',\n",
       " 'she wander deeper forest , clutch stone tightli , reach ancient oak tree .',\n",
       " 'beneath root tini , shimmer door .',\n",
       " 'take deep breath , open found world beyond imagin .',\n",
       " 'lush field stretch endlessli , creatur kinds—gentl deer golden antler , sing bird silver feathers—greet smile .',\n",
       " 'in world , lila felt sens belong like never .',\n",
       " 'she wander crystal-clear river climb mystic mountain , heart fill awe wonder .',\n",
       " 'but sun began set , felt gentl pull guid back .',\n",
       " 'the creatur wave goodby , walk back tini door , vanish moment close behind .',\n",
       " 'from day forward , lila return villag , forev chang .',\n",
       " 'she knew magic exist , dream longer dream .',\n",
       " 'they memori , cherish forev .']"
      ]
     },
     "execution_count": 20,
     "metadata": {},
     "output_type": "execute_result"
    }
   ],
   "source": [
    "sentences"
   ]
  },
  {
   "cell_type": "code",
   "execution_count": 21,
   "metadata": {},
   "outputs": [],
   "source": [
    "from nltk.stem import SnowballStemmer\n",
    "snowball_stemmer = SnowballStemmer(\"english\")"
   ]
  },
  {
   "cell_type": "code",
   "execution_count": 22,
   "metadata": {},
   "outputs": [],
   "source": [
    "for i in range(len(sentences)):\n",
    "    words = nltk.word_tokenize(sentences[i])\n",
    "    words = [snowball_stemmer.stem(word) for word in words if word not in set(stopwords.words('english'))]\n",
    "    sentences[i] = ' '.join(words) ##converting all words to sentences"
   ]
  },
  {
   "cell_type": "code",
   "execution_count": 23,
   "metadata": {},
   "outputs": [
    {
     "data": {
      "text/plain": [
       "['onc upon time small villag nestl green hill sparkl river , live young girl name lila .',\n",
       " 'lila wild imagin heart full dream .',\n",
       " 'everi even , would sit riverbank , watch golden sun dip horizon , dream far-off land grand adventur .',\n",
       " 'one day , explor forest nearbi , stumbl upon peculiar stone .',\n",
       " 'smooth shimmer , unlik anyth ever seen .',\n",
       " 'intrigu , pick felt sudden warmth radiat finger .',\n",
       " 'examin closer , soft voic echo , “ lila , heart ’ desir await . ” startl , look around saw one .',\n",
       " 'believ imagin , laugh , strang urg follow instinct push forward .',\n",
       " 'wander deeper forest , clutch stone tight , reach ancient oak tree .',\n",
       " 'beneath root tini , shimmer door .',\n",
       " 'take deep breath , open found world beyond imagin .',\n",
       " 'lush field stretch endless , creatur kinds—gentl deer golden antler , sing bird silver feathers—greet smile .',\n",
       " 'world , lila felt sen belong like never .',\n",
       " 'wander crystal-clear river climb mystic mountain , heart fill awe wonder .',\n",
       " 'sun began set , felt gentl pull guid back .',\n",
       " 'creatur wave goodbi , walk back tini door , vanish moment close behind .',\n",
       " 'day forward , lila return villag , forev chang .',\n",
       " 'knew magic exist , dream longer dream .',\n",
       " 'memori , cherish forev .']"
      ]
     },
     "execution_count": 23,
     "metadata": {},
     "output_type": "execute_result"
    }
   ],
   "source": [
    "sentences "
   ]
  },
  {
   "cell_type": "code",
   "execution_count": null,
   "metadata": {},
   "outputs": [],
   "source": []
  }
 ],
 "metadata": {
  "kernelspec": {
   "display_name": "pipeline_inf_env",
   "language": "python",
   "name": "python3"
  },
  "language_info": {
   "codemirror_mode": {
    "name": "ipython",
    "version": 3
   },
   "file_extension": ".py",
   "mimetype": "text/x-python",
   "name": "python",
   "nbconvert_exporter": "python",
   "pygments_lexer": "ipython3",
   "version": "3.10.14"
  }
 },
 "nbformat": 4,
 "nbformat_minor": 2
}

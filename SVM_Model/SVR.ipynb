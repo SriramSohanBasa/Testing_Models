{
 "cells": [
  {
   "cell_type": "code",
   "execution_count": 54,
   "metadata": {},
   "outputs": [
    {
     "data": {
      "text/html": [
       "<div>\n",
       "<style scoped>\n",
       "    .dataframe tbody tr th:only-of-type {\n",
       "        vertical-align: middle;\n",
       "    }\n",
       "\n",
       "    .dataframe tbody tr th {\n",
       "        vertical-align: top;\n",
       "    }\n",
       "\n",
       "    .dataframe thead th {\n",
       "        text-align: right;\n",
       "    }\n",
       "</style>\n",
       "<table border=\"1\" class=\"dataframe\">\n",
       "  <thead>\n",
       "    <tr style=\"text-align: right;\">\n",
       "      <th></th>\n",
       "      <th>total_bill</th>\n",
       "      <th>tip</th>\n",
       "      <th>sex</th>\n",
       "      <th>smoker</th>\n",
       "      <th>day</th>\n",
       "      <th>time</th>\n",
       "      <th>size</th>\n",
       "    </tr>\n",
       "  </thead>\n",
       "  <tbody>\n",
       "    <tr>\n",
       "      <th>0</th>\n",
       "      <td>16.99</td>\n",
       "      <td>1.01</td>\n",
       "      <td>Female</td>\n",
       "      <td>No</td>\n",
       "      <td>Sun</td>\n",
       "      <td>Dinner</td>\n",
       "      <td>2</td>\n",
       "    </tr>\n",
       "    <tr>\n",
       "      <th>1</th>\n",
       "      <td>10.34</td>\n",
       "      <td>1.66</td>\n",
       "      <td>Male</td>\n",
       "      <td>No</td>\n",
       "      <td>Sun</td>\n",
       "      <td>Dinner</td>\n",
       "      <td>3</td>\n",
       "    </tr>\n",
       "    <tr>\n",
       "      <th>2</th>\n",
       "      <td>21.01</td>\n",
       "      <td>3.50</td>\n",
       "      <td>Male</td>\n",
       "      <td>No</td>\n",
       "      <td>Sun</td>\n",
       "      <td>Dinner</td>\n",
       "      <td>3</td>\n",
       "    </tr>\n",
       "    <tr>\n",
       "      <th>3</th>\n",
       "      <td>23.68</td>\n",
       "      <td>3.31</td>\n",
       "      <td>Male</td>\n",
       "      <td>No</td>\n",
       "      <td>Sun</td>\n",
       "      <td>Dinner</td>\n",
       "      <td>2</td>\n",
       "    </tr>\n",
       "    <tr>\n",
       "      <th>4</th>\n",
       "      <td>24.59</td>\n",
       "      <td>3.61</td>\n",
       "      <td>Female</td>\n",
       "      <td>No</td>\n",
       "      <td>Sun</td>\n",
       "      <td>Dinner</td>\n",
       "      <td>4</td>\n",
       "    </tr>\n",
       "  </tbody>\n",
       "</table>\n",
       "</div>"
      ],
      "text/plain": [
       "   total_bill   tip     sex smoker  day    time  size\n",
       "0       16.99  1.01  Female     No  Sun  Dinner     2\n",
       "1       10.34  1.66    Male     No  Sun  Dinner     3\n",
       "2       21.01  3.50    Male     No  Sun  Dinner     3\n",
       "3       23.68  3.31    Male     No  Sun  Dinner     2\n",
       "4       24.59  3.61  Female     No  Sun  Dinner     4"
      ]
     },
     "execution_count": 54,
     "metadata": {},
     "output_type": "execute_result"
    }
   ],
   "source": [
    "##dataset(tips dataset)\n",
    "import seaborn as sns\n",
    "df=sns.load_dataset('tips')\n",
    "df.head()\n"
   ]
  },
  {
   "cell_type": "code",
   "execution_count": 55,
   "metadata": {},
   "outputs": [
    {
     "data": {
      "text/plain": [
       "sex\n",
       "Male      157\n",
       "Female     87\n",
       "Name: count, dtype: int64"
      ]
     },
     "execution_count": 55,
     "metadata": {},
     "output_type": "execute_result"
    }
   ],
   "source": [
    "df['sex'].value_counts()"
   ]
  },
  {
   "cell_type": "code",
   "execution_count": 56,
   "metadata": {},
   "outputs": [
    {
     "data": {
      "text/plain": [
       "smoker\n",
       "No     151\n",
       "Yes     93\n",
       "Name: count, dtype: int64"
      ]
     },
     "execution_count": 56,
     "metadata": {},
     "output_type": "execute_result"
    }
   ],
   "source": [
    "df['smoker'].value_counts()"
   ]
  },
  {
   "cell_type": "code",
   "execution_count": 57,
   "metadata": {},
   "outputs": [],
   "source": [
    "##category has only two values, so we can convert it into binary values\n",
    "##feature encoding and lable encoding and one hot encoding\n",
    "\n"
   ]
  },
  {
   "cell_type": "code",
   "execution_count": 58,
   "metadata": {},
   "outputs": [],
   "source": [
    "##independent variables and dependent variables\n",
    "\n",
    "X=df[['tip', 'sex', 'smoker', 'day', 'time', 'size']]\n",
    "y=df['total_bill']"
   ]
  },
  {
   "cell_type": "code",
   "execution_count": 59,
   "metadata": {},
   "outputs": [],
   "source": [
    "from sklearn.model_selection import train_test_split\n",
    "X_train, X_test, y_train, y_test = train_test_split(X, y, test_size=0.25, random_state=10)"
   ]
  },
  {
   "cell_type": "code",
   "execution_count": 60,
   "metadata": {},
   "outputs": [
    {
     "data": {
      "text/html": [
       "<div>\n",
       "<style scoped>\n",
       "    .dataframe tbody tr th:only-of-type {\n",
       "        vertical-align: middle;\n",
       "    }\n",
       "\n",
       "    .dataframe tbody tr th {\n",
       "        vertical-align: top;\n",
       "    }\n",
       "\n",
       "    .dataframe thead th {\n",
       "        text-align: right;\n",
       "    }\n",
       "</style>\n",
       "<table border=\"1\" class=\"dataframe\">\n",
       "  <thead>\n",
       "    <tr style=\"text-align: right;\">\n",
       "      <th></th>\n",
       "      <th>tip</th>\n",
       "      <th>sex</th>\n",
       "      <th>smoker</th>\n",
       "      <th>day</th>\n",
       "      <th>time</th>\n",
       "      <th>size</th>\n",
       "    </tr>\n",
       "  </thead>\n",
       "  <tbody>\n",
       "    <tr>\n",
       "      <th>58</th>\n",
       "      <td>1.76</td>\n",
       "      <td>Male</td>\n",
       "      <td>Yes</td>\n",
       "      <td>Sat</td>\n",
       "      <td>Dinner</td>\n",
       "      <td>2</td>\n",
       "    </tr>\n",
       "    <tr>\n",
       "      <th>1</th>\n",
       "      <td>1.66</td>\n",
       "      <td>Male</td>\n",
       "      <td>No</td>\n",
       "      <td>Sun</td>\n",
       "      <td>Dinner</td>\n",
       "      <td>3</td>\n",
       "    </tr>\n",
       "    <tr>\n",
       "      <th>2</th>\n",
       "      <td>3.50</td>\n",
       "      <td>Male</td>\n",
       "      <td>No</td>\n",
       "      <td>Sun</td>\n",
       "      <td>Dinner</td>\n",
       "      <td>3</td>\n",
       "    </tr>\n",
       "    <tr>\n",
       "      <th>68</th>\n",
       "      <td>2.01</td>\n",
       "      <td>Male</td>\n",
       "      <td>No</td>\n",
       "      <td>Sat</td>\n",
       "      <td>Dinner</td>\n",
       "      <td>2</td>\n",
       "    </tr>\n",
       "    <tr>\n",
       "      <th>184</th>\n",
       "      <td>3.00</td>\n",
       "      <td>Male</td>\n",
       "      <td>Yes</td>\n",
       "      <td>Sun</td>\n",
       "      <td>Dinner</td>\n",
       "      <td>2</td>\n",
       "    </tr>\n",
       "  </tbody>\n",
       "</table>\n",
       "</div>"
      ],
      "text/plain": [
       "      tip   sex smoker  day    time  size\n",
       "58   1.76  Male    Yes  Sat  Dinner     2\n",
       "1    1.66  Male     No  Sun  Dinner     3\n",
       "2    3.50  Male     No  Sun  Dinner     3\n",
       "68   2.01  Male     No  Sat  Dinner     2\n",
       "184  3.00  Male    Yes  Sun  Dinner     2"
      ]
     },
     "execution_count": 60,
     "metadata": {},
     "output_type": "execute_result"
    }
   ],
   "source": [
    "X_train.head()"
   ]
  },
  {
   "cell_type": "code",
   "execution_count": 61,
   "metadata": {},
   "outputs": [
    {
     "data": {
      "text/plain": [
       "58     11.24\n",
       "1      10.34\n",
       "2      21.01\n",
       "68     20.23\n",
       "184    40.55\n",
       "Name: total_bill, dtype: float64"
      ]
     },
     "execution_count": 61,
     "metadata": {},
     "output_type": "execute_result"
    }
   ],
   "source": [
    "y_train.head()"
   ]
  },
  {
   "cell_type": "code",
   "execution_count": 62,
   "metadata": {},
   "outputs": [],
   "source": [
    "##feature encoding(Label encoding and one hot encoding)\n",
    "##we should split data before encoding because of data leakage\n",
    "\n"
   ]
  },
  {
   "cell_type": "code",
   "execution_count": 63,
   "metadata": {},
   "outputs": [],
   "source": [
    "from sklearn.preprocessing import LabelEncoder, OneHotEncoder\n",
    "\n",
    "le1=LabelEncoder()\n",
    "le2= LabelEncoder()\n",
    "le3= LabelEncoder()"
   ]
  },
  {
   "cell_type": "code",
   "execution_count": 64,
   "metadata": {},
   "outputs": [],
   "source": [
    "import warnings\n",
    "warnings.filterwarnings('ignore')\n",
    "X_train['sex']=le1.fit_transform(X_train[['sex']])\n",
    "X_train['smoker']=le2.fit_transform(X_train[['smoker']])\n",
    "\n",
    "X_train['time']=le3.fit_transform(X_train[['time']])\n"
   ]
  },
  {
   "cell_type": "code",
   "execution_count": 65,
   "metadata": {},
   "outputs": [
    {
     "data": {
      "text/html": [
       "<div>\n",
       "<style scoped>\n",
       "    .dataframe tbody tr th:only-of-type {\n",
       "        vertical-align: middle;\n",
       "    }\n",
       "\n",
       "    .dataframe tbody tr th {\n",
       "        vertical-align: top;\n",
       "    }\n",
       "\n",
       "    .dataframe thead th {\n",
       "        text-align: right;\n",
       "    }\n",
       "</style>\n",
       "<table border=\"1\" class=\"dataframe\">\n",
       "  <thead>\n",
       "    <tr style=\"text-align: right;\">\n",
       "      <th></th>\n",
       "      <th>tip</th>\n",
       "      <th>sex</th>\n",
       "      <th>smoker</th>\n",
       "      <th>day</th>\n",
       "      <th>time</th>\n",
       "      <th>size</th>\n",
       "    </tr>\n",
       "  </thead>\n",
       "  <tbody>\n",
       "    <tr>\n",
       "      <th>58</th>\n",
       "      <td>1.76</td>\n",
       "      <td>1</td>\n",
       "      <td>1</td>\n",
       "      <td>Sat</td>\n",
       "      <td>0</td>\n",
       "      <td>2</td>\n",
       "    </tr>\n",
       "    <tr>\n",
       "      <th>1</th>\n",
       "      <td>1.66</td>\n",
       "      <td>1</td>\n",
       "      <td>0</td>\n",
       "      <td>Sun</td>\n",
       "      <td>0</td>\n",
       "      <td>3</td>\n",
       "    </tr>\n",
       "    <tr>\n",
       "      <th>2</th>\n",
       "      <td>3.50</td>\n",
       "      <td>1</td>\n",
       "      <td>0</td>\n",
       "      <td>Sun</td>\n",
       "      <td>0</td>\n",
       "      <td>3</td>\n",
       "    </tr>\n",
       "    <tr>\n",
       "      <th>68</th>\n",
       "      <td>2.01</td>\n",
       "      <td>1</td>\n",
       "      <td>0</td>\n",
       "      <td>Sat</td>\n",
       "      <td>0</td>\n",
       "      <td>2</td>\n",
       "    </tr>\n",
       "    <tr>\n",
       "      <th>184</th>\n",
       "      <td>3.00</td>\n",
       "      <td>1</td>\n",
       "      <td>1</td>\n",
       "      <td>Sun</td>\n",
       "      <td>0</td>\n",
       "      <td>2</td>\n",
       "    </tr>\n",
       "  </tbody>\n",
       "</table>\n",
       "</div>"
      ],
      "text/plain": [
       "      tip  sex  smoker  day  time  size\n",
       "58   1.76    1       1  Sat     0     2\n",
       "1    1.66    1       0  Sun     0     3\n",
       "2    3.50    1       0  Sun     0     3\n",
       "68   2.01    1       0  Sat     0     2\n",
       "184  3.00    1       1  Sun     0     2"
      ]
     },
     "execution_count": 65,
     "metadata": {},
     "output_type": "execute_result"
    }
   ],
   "source": [
    "X_train.head()"
   ]
  },
  {
   "cell_type": "code",
   "execution_count": 66,
   "metadata": {},
   "outputs": [],
   "source": [
    "## we dont do fir for test data, only for train data\n",
    "X_test['sex']=le1.transform(X_test[['sex']])\n",
    "X_test['smoker']=le2.transform(X_test[['smoker']])\n",
    "X_test['time']=le3.transform(X_test[['time']])\n"
   ]
  },
  {
   "cell_type": "code",
   "execution_count": 67,
   "metadata": {},
   "outputs": [
    {
     "data": {
      "text/html": [
       "<div>\n",
       "<style scoped>\n",
       "    .dataframe tbody tr th:only-of-type {\n",
       "        vertical-align: middle;\n",
       "    }\n",
       "\n",
       "    .dataframe tbody tr th {\n",
       "        vertical-align: top;\n",
       "    }\n",
       "\n",
       "    .dataframe thead th {\n",
       "        text-align: right;\n",
       "    }\n",
       "</style>\n",
       "<table border=\"1\" class=\"dataframe\">\n",
       "  <thead>\n",
       "    <tr style=\"text-align: right;\">\n",
       "      <th></th>\n",
       "      <th>tip</th>\n",
       "      <th>sex</th>\n",
       "      <th>smoker</th>\n",
       "      <th>day</th>\n",
       "      <th>time</th>\n",
       "      <th>size</th>\n",
       "    </tr>\n",
       "  </thead>\n",
       "  <tbody>\n",
       "    <tr>\n",
       "      <th>201</th>\n",
       "      <td>2.01</td>\n",
       "      <td>0</td>\n",
       "      <td>1</td>\n",
       "      <td>Thur</td>\n",
       "      <td>1</td>\n",
       "      <td>2</td>\n",
       "    </tr>\n",
       "    <tr>\n",
       "      <th>149</th>\n",
       "      <td>2.00</td>\n",
       "      <td>1</td>\n",
       "      <td>0</td>\n",
       "      <td>Thur</td>\n",
       "      <td>1</td>\n",
       "      <td>2</td>\n",
       "    </tr>\n",
       "    <tr>\n",
       "      <th>175</th>\n",
       "      <td>3.11</td>\n",
       "      <td>1</td>\n",
       "      <td>1</td>\n",
       "      <td>Sun</td>\n",
       "      <td>0</td>\n",
       "      <td>2</td>\n",
       "    </tr>\n",
       "    <tr>\n",
       "      <th>226</th>\n",
       "      <td>2.00</td>\n",
       "      <td>0</td>\n",
       "      <td>1</td>\n",
       "      <td>Fri</td>\n",
       "      <td>1</td>\n",
       "      <td>2</td>\n",
       "    </tr>\n",
       "    <tr>\n",
       "      <th>49</th>\n",
       "      <td>3.00</td>\n",
       "      <td>1</td>\n",
       "      <td>0</td>\n",
       "      <td>Sun</td>\n",
       "      <td>0</td>\n",
       "      <td>2</td>\n",
       "    </tr>\n",
       "  </tbody>\n",
       "</table>\n",
       "</div>"
      ],
      "text/plain": [
       "      tip  sex  smoker   day  time  size\n",
       "201  2.01    0       1  Thur     1     2\n",
       "149  2.00    1       0  Thur     1     2\n",
       "175  3.11    1       1   Sun     0     2\n",
       "226  2.00    0       1   Fri     1     2\n",
       "49   3.00    1       0   Sun     0     2"
      ]
     },
     "execution_count": 67,
     "metadata": {},
     "output_type": "execute_result"
    }
   ],
   "source": [
    "X_test.tail()"
   ]
  },
  {
   "cell_type": "code",
   "execution_count": 68,
   "metadata": {},
   "outputs": [],
   "source": [
    "## one hot encoding because day has more than two values\n",
    "\n",
    "from sklearn.compose import ColumnTransformer\n",
    "from sklearn.preprocessing import OneHotEncoder\n"
   ]
  },
  {
   "cell_type": "code",
   "execution_count": 69,
   "metadata": {},
   "outputs": [],
   "source": [
    "ct = ColumnTransformer(transformers=[('onehot', OneHotEncoder(drop='first'), [3])], remainder='passthrough')\n",
    "\n",
    "\n"
   ]
  },
  {
   "cell_type": "code",
   "execution_count": 70,
   "metadata": {},
   "outputs": [],
   "source": [
    "import sys\n",
    "import numpy as np\n",
    "np.set_printoptions(threshold=sys.maxsize)\n"
   ]
  },
  {
   "cell_type": "code",
   "execution_count": 71,
   "metadata": {},
   "outputs": [],
   "source": [
    "X_train = ct.fit_transform(X_train)"
   ]
  },
  {
   "cell_type": "code",
   "execution_count": 72,
   "metadata": {},
   "outputs": [
    {
     "name": "stdout",
     "output_type": "stream",
     "text": [
      "X_train shape: (183, 8)\n",
      "X_test shape: (61, 6)\n"
     ]
    }
   ],
   "source": [
    "print(\"X_train shape:\", X_train.shape)\n",
    "print(\"X_test shape:\", X_test.shape)\n"
   ]
  },
  {
   "cell_type": "code",
   "execution_count": 73,
   "metadata": {},
   "outputs": [],
   "source": [
    "X_test = ct.transform(X_test)"
   ]
  },
  {
   "cell_type": "code",
   "execution_count": 82,
   "metadata": {},
   "outputs": [
    {
     "data": {
      "image/png": "[encoded data removed]",
      "text/plain": [
       "<Figure size 1000x600 with 1 Axes>"
      ]
     },
     "metadata": {},
     "output_type": "display_data"
    },
    {
     "name": "stdout",
     "output_type": "stream",
     "text": [
      "R-squared score: 0.4603\n",
      "Mean Squared Error: 45.6921\n",
      "Root Mean Squared Error: 6.7596\n",
      "Mean Absolute Error: 4.1486\n"
     ]
    }
   ],
   "source": [
    "##SVR\n",
    "\n",
    "from sklearn.svm import SVR\n",
    "\n",
    "svr=SVR()\n",
    "svr.fit(X_train, y_train)\n",
    "\n",
    "y_pred=svr.predict(X_test)\n",
    "\n",
    "\n",
    "import matplotlib.pyplot as plt\n",
    "from sklearn.metrics import r2_score, mean_squared_error, mean_absolute_error\n",
    "\n",
    "# Create a scatter plot of actual vs predicted values\n",
    "plt.figure(figsize=(10, 6))\n",
    "plt.scatter(y_test, y_pred, color='blue', alpha=0.5)\n",
    "plt.plot([y_test.min(), y_test.max()], [y_test.min(), y_test.max()], 'r--', lw=2)\n",
    "\n",
    "plt.xlabel('Actual Total Bill')\n",
    "plt.ylabel('Predicted Total Bill')\n",
    "plt.title('SVR: Actual vs Predicted Total Bill')\n",
    "\n",
    "# Add a legend\n",
    "plt.legend(['Perfect Prediction', 'Actual vs Predicted'])\n",
    "\n",
    "# Show the plot\n",
    "plt.tight_layout()\n",
    "plt.show()\n",
    "\n",
    "# Calculate and print accuracy scores\n",
    "r2 = r2_score(y_test, y_pred)\n",
    "mse = mean_squared_error(y_test, y_pred)\n",
    "rmse = mean_squared_error(y_test, y_pred, squared=False)\n",
    "mae = mean_absolute_error(y_test, y_pred)\n",
    "\n",
    "print(f\"R-squared score: {r2:.4f}\")\n",
    "print(f\"Mean Squared Error: {mse:.4f}\")\n",
    "print(f\"Root Mean Squared Error: {rmse:.4f}\")\n",
    "print(f\"Mean Absolute Error: {mae:.4f}\")"
   ]
  },
  {
   "cell_type": "code",
   "execution_count": 83,
   "metadata": {},
   "outputs": [],
   "source": [
    "## hyperparameter tuning\n",
    "\n",
    "from sklearn.model_selection import GridSearchCV\n",
    "\n",
    "param_grid={'C':[0.1, 1, 10, 100, 1000], \n",
    "            'kernel':['linear', 'poly', 'rbf', 'sigmoid'],\n",
    "              'gamma':['scale', 'auto']}"
   ]
  },
  {
   "cell_type": "code",
   "execution_count": 84,
   "metadata": {},
   "outputs": [
    {
     "name": "stdout",
     "output_type": "stream",
     "text": [
      "Fitting 5 folds for each of 40 candidates, totalling 200 fits\n",
      "[CV 1/5] END .C=0.1, gamma=scale, kernel=linear;, score=0.215 total time=   0.0s\n",
      "[CV 2/5] END .C=0.1, gamma=scale, kernel=linear;, score=0.478 total time=   0.0s\n",
      "[CV 3/5] END .C=0.1, gamma=scale, kernel=linear;, score=0.717 total time=   0.0s\n",
      "[CV 4/5] END .C=0.1, gamma=scale, kernel=linear;, score=0.442 total time=   0.0s\n",
      "[CV 5/5] END .C=0.1, gamma=scale, kernel=linear;, score=0.585 total time=   0.0s\n",
      "[CV 1/5] END ...C=0.1, gamma=scale, kernel=poly;, score=0.241 total time=   0.0s\n",
      "[CV 2/5] END ...C=0.1, gamma=scale, kernel=poly;, score=0.486 total time=   0.0s\n",
      "[CV 3/5] END ...C=0.1, gamma=scale, kernel=poly;, score=0.640 total time=   0.0s\n",
      "[CV 4/5] END ...C=0.1, gamma=scale, kernel=poly;, score=0.247 total time=   0.0s\n",
      "[CV 5/5] END ...C=0.1, gamma=scale, kernel=poly;, score=0.508 total time=   0.0s\n",
      "[CV 1/5] END ....C=0.1, gamma=scale, kernel=rbf;, score=0.011 total time=   0.0s\n",
      "[CV 2/5] END ....C=0.1, gamma=scale, kernel=rbf;, score=0.023 total time=   0.0s\n",
      "[CV 3/5] END ...C=0.1, gamma=scale, kernel=rbf;, score=-0.012 total time=   0.0s\n",
      "[CV 4/5] END ....C=0.1, gamma=scale, kernel=rbf;, score=0.124 total time=   0.0s\n",
      "[CV 5/5] END ....C=0.1, gamma=scale, kernel=rbf;, score=0.048 total time=   0.0s\n",
      "[CV 1/5] END C=0.1, gamma=scale, kernel=sigmoid;, score=-0.118 total time=   0.0s\n",
      "[CV 2/5] END C=0.1, gamma=scale, kernel=sigmoid;, score=-0.119 total time=   0.0s\n",
      "[CV 3/5] END C=0.1, gamma=scale, kernel=sigmoid;, score=-0.235 total time=   0.0s\n",
      "[CV 4/5] END C=0.1, gamma=scale, kernel=sigmoid;, score=-0.050 total time=   0.0s\n",
      "[CV 5/5] END C=0.1, gamma=scale, kernel=sigmoid;, score=-0.163 total time=   0.0s\n",
      "[CV 1/5] END ..C=0.1, gamma=auto, kernel=linear;, score=0.215 total time=   0.0s\n",
      "[CV 2/5] END ..C=0.1, gamma=auto, kernel=linear;, score=0.478 total time=   0.0s\n",
      "[CV 3/5] END ..C=0.1, gamma=auto, kernel=linear;, score=0.717 total time=   0.0s\n",
      "[CV 4/5] END ..C=0.1, gamma=auto, kernel=linear;, score=0.442 total time=   0.0s\n",
      "[CV 5/5] END ..C=0.1, gamma=auto, kernel=linear;, score=0.585 total time=   0.0s\n",
      "[CV 1/5] END ....C=0.1, gamma=auto, kernel=poly;, score=0.243 total time=   0.0s\n",
      "[CV 2/5] END ....C=0.1, gamma=auto, kernel=poly;, score=0.451 total time=   0.0s\n",
      "[CV 3/5] END ....C=0.1, gamma=auto, kernel=poly;, score=0.579 total time=   0.0s\n",
      "[CV 4/5] END ....C=0.1, gamma=auto, kernel=poly;, score=0.052 total time=   0.0s\n",
      "[CV 5/5] END ....C=0.1, gamma=auto, kernel=poly;, score=0.508 total time=   0.0s\n",
      "[CV 1/5] END .....C=0.1, gamma=auto, kernel=rbf;, score=0.010 total time=   0.0s\n",
      "[CV 2/5] END .....C=0.1, gamma=auto, kernel=rbf;, score=0.017 total time=   0.0s\n",
      "[CV 3/5] END ....C=0.1, gamma=auto, kernel=rbf;, score=-0.014 total time=   0.0s\n",
      "[CV 4/5] END .....C=0.1, gamma=auto, kernel=rbf;, score=0.122 total time=   0.0s\n",
      "[CV 5/5] END .....C=0.1, gamma=auto, kernel=rbf;, score=0.045 total time=   0.0s\n",
      "[CV 1/5] END C=0.1, gamma=auto, kernel=sigmoid;, score=-0.115 total time=   0.0s\n",
      "[CV 2/5] END C=0.1, gamma=auto, kernel=sigmoid;, score=-0.120 total time=   0.0s\n",
      "[CV 3/5] END C=0.1, gamma=auto, kernel=sigmoid;, score=-0.224 total time=   0.0s\n",
      "[CV 4/5] END C=0.1, gamma=auto, kernel=sigmoid;, score=-0.068 total time=   0.0s\n",
      "[CV 5/5] END C=0.1, gamma=auto, kernel=sigmoid;, score=-0.162 total time=   0.0s\n",
      "[CV 1/5] END ...C=1, gamma=scale, kernel=linear;, score=0.227 total time=   0.0s\n",
      "[CV 2/5] END ...C=1, gamma=scale, kernel=linear;, score=0.515 total time=   0.0s\n",
      "[CV 3/5] END ...C=1, gamma=scale, kernel=linear;, score=0.724 total time=   0.0s\n",
      "[CV 4/5] END ...C=1, gamma=scale, kernel=linear;, score=0.366 total time=   0.0s\n",
      "[CV 5/5] END ...C=1, gamma=scale, kernel=linear;, score=0.636 total time=   0.0s\n",
      "[CV 1/5] END .....C=1, gamma=scale, kernel=poly;, score=0.243 total time=   0.0s\n",
      "[CV 2/5] END .....C=1, gamma=scale, kernel=poly;, score=0.450 total time=   0.0s\n",
      "[CV 3/5] END .....C=1, gamma=scale, kernel=poly;, score=0.536 total time=   0.0s\n",
      "[CV 4/5] END ....C=1, gamma=scale, kernel=poly;, score=-0.013 total time=   0.0s\n",
      "[CV 5/5] END .....C=1, gamma=scale, kernel=poly;, score=0.519 total time=   0.0s\n",
      "[CV 1/5] END ......C=1, gamma=scale, kernel=rbf;, score=0.201 total time=   0.0s\n",
      "[CV 2/5] END ......C=1, gamma=scale, kernel=rbf;, score=0.262 total time=   0.0s\n",
      "[CV 3/5] END ......C=1, gamma=scale, kernel=rbf;, score=0.545 total time=   0.0s\n",
      "[CV 4/5] END ......C=1, gamma=scale, kernel=rbf;, score=0.360 total time=   0.0s\n",
      "[CV 5/5] END ......C=1, gamma=scale, kernel=rbf;, score=0.504 total time=   0.0s\n",
      "[CV 1/5] END .C=1, gamma=scale, kernel=sigmoid;, score=-0.447 total time=   0.0s\n",
      "[CV 2/5] END .C=1, gamma=scale, kernel=sigmoid;, score=-0.593 total time=   0.0s\n",
      "[CV 3/5] END .C=1, gamma=scale, kernel=sigmoid;, score=-0.874 total time=   0.0s\n",
      "[CV 4/5] END .C=1, gamma=scale, kernel=sigmoid;, score=-0.476 total time=   0.0s\n",
      "[CV 5/5] END .C=1, gamma=scale, kernel=sigmoid;, score=-0.673 total time=   0.0s\n",
      "[CV 1/5] END ....C=1, gamma=auto, kernel=linear;, score=0.227 total time=   0.0s\n",
      "[CV 2/5] END ....C=1, gamma=auto, kernel=linear;, score=0.515 total time=   0.0s\n",
      "[CV 3/5] END ....C=1, gamma=auto, kernel=linear;, score=0.724 total time=   0.0s\n",
      "[CV 4/5] END ....C=1, gamma=auto, kernel=linear;, score=0.366 total time=   0.0s\n",
      "[CV 5/5] END ....C=1, gamma=auto, kernel=linear;, score=0.636 total time=   0.0s\n",
      "[CV 1/5] END ......C=1, gamma=auto, kernel=poly;, score=0.212 total time=   0.0s\n",
      "[CV 2/5] END ......C=1, gamma=auto, kernel=poly;, score=0.490 total time=   0.0s\n",
      "[CV 3/5] END ......C=1, gamma=auto, kernel=poly;, score=0.516 total time=   0.0s\n",
      "[CV 4/5] END ......C=1, gamma=auto, kernel=poly;, score=0.011 total time=   0.0s\n",
      "[CV 5/5] END ......C=1, gamma=auto, kernel=poly;, score=0.573 total time=   0.0s\n",
      "[CV 1/5] END .......C=1, gamma=auto, kernel=rbf;, score=0.183 total time=   0.0s\n",
      "[CV 2/5] END .......C=1, gamma=auto, kernel=rbf;, score=0.244 total time=   0.0s\n",
      "[CV 3/5] END .......C=1, gamma=auto, kernel=rbf;, score=0.515 total time=   0.0s\n",
      "[CV 4/5] END .......C=1, gamma=auto, kernel=rbf;, score=0.332 total time=   0.0s\n",
      "[CV 5/5] END .......C=1, gamma=auto, kernel=rbf;, score=0.498 total time=   0.0s\n",
      "[CV 1/5] END ..C=1, gamma=auto, kernel=sigmoid;, score=-0.462 total time=   0.0s\n",
      "[CV 2/5] END ..C=1, gamma=auto, kernel=sigmoid;, score=-0.588 total time=   0.0s\n",
      "[CV 3/5] END ..C=1, gamma=auto, kernel=sigmoid;, score=-0.779 total time=   0.0s\n",
      "[CV 4/5] END ..C=1, gamma=auto, kernel=sigmoid;, score=-0.793 total time=   0.0s\n",
      "[CV 5/5] END ..C=1, gamma=auto, kernel=sigmoid;, score=-0.660 total time=   0.0s\n",
      "[CV 1/5] END ..C=10, gamma=scale, kernel=linear;, score=0.245 total time=   0.0s\n",
      "[CV 2/5] END ..C=10, gamma=scale, kernel=linear;, score=0.527 total time=   0.0s\n",
      "[CV 3/5] END ..C=10, gamma=scale, kernel=linear;, score=0.706 total time=   0.0s\n",
      "[CV 4/5] END ..C=10, gamma=scale, kernel=linear;, score=0.368 total time=   0.0s\n",
      "[CV 5/5] END ..C=10, gamma=scale, kernel=linear;, score=0.651 total time=   0.0s\n",
      "[CV 1/5] END ....C=10, gamma=scale, kernel=poly;, score=0.195 total time=   0.0s\n",
      "[CV 2/5] END ....C=10, gamma=scale, kernel=poly;, score=0.449 total time=   0.0s\n",
      "[CV 3/5] END ....C=10, gamma=scale, kernel=poly;, score=0.239 total time=   0.0s\n",
      "[CV 4/5] END ...C=10, gamma=scale, kernel=poly;, score=-0.046 total time=   0.0s\n",
      "[CV 5/5] END ....C=10, gamma=scale, kernel=poly;, score=0.579 total time=   0.0s\n",
      "[CV 1/5] END .....C=10, gamma=scale, kernel=rbf;, score=0.138 total time=   0.0s\n",
      "[CV 2/5] END .....C=10, gamma=scale, kernel=rbf;, score=0.428 total time=   0.0s\n",
      "[CV 3/5] END .....C=10, gamma=scale, kernel=rbf;, score=0.713 total time=   0.0s\n",
      "[CV 4/5] END .....C=10, gamma=scale, kernel=rbf;, score=0.392 total time=   0.0s\n",
      "[CV 5/5] END .....C=10, gamma=scale, kernel=rbf;, score=0.551 total time=   0.0s\n",
      "[CV 1/5] END C=10, gamma=scale, kernel=sigmoid;, score=-13.919 total time=   0.0s\n",
      "[CV 2/5] END C=10, gamma=scale, kernel=sigmoid;, score=-17.902 total time=   0.0s\n",
      "[CV 3/5] END C=10, gamma=scale, kernel=sigmoid;, score=-27.404 total time=   0.0s\n",
      "[CV 4/5] END C=10, gamma=scale, kernel=sigmoid;, score=-15.911 total time=   0.0s\n",
      "[CV 5/5] END C=10, gamma=scale, kernel=sigmoid;, score=-21.412 total time=   0.0s\n",
      "[CV 1/5] END ...C=10, gamma=auto, kernel=linear;, score=0.245 total time=   0.0s\n",
      "[CV 2/5] END ...C=10, gamma=auto, kernel=linear;, score=0.527 total time=   0.0s\n",
      "[CV 3/5] END ...C=10, gamma=auto, kernel=linear;, score=0.706 total time=   0.0s\n",
      "[CV 4/5] END ...C=10, gamma=auto, kernel=linear;, score=0.368 total time=   0.0s\n",
      "[CV 5/5] END ...C=10, gamma=auto, kernel=linear;, score=0.651 total time=   0.0s\n",
      "[CV 1/5] END .....C=10, gamma=auto, kernel=poly;, score=0.137 total time=   0.0s\n",
      "[CV 2/5] END .....C=10, gamma=auto, kernel=poly;, score=0.265 total time=   0.0s\n",
      "[CV 3/5] END ....C=10, gamma=auto, kernel=poly;, score=-0.215 total time=   0.0s\n",
      "[CV 4/5] END ....C=10, gamma=auto, kernel=poly;, score=-0.007 total time=   0.0s\n",
      "[CV 5/5] END .....C=10, gamma=auto, kernel=poly;, score=0.531 total time=   0.0s\n",
      "[CV 1/5] END ......C=10, gamma=auto, kernel=rbf;, score=0.162 total time=   0.0s\n",
      "[CV 2/5] END ......C=10, gamma=auto, kernel=rbf;, score=0.441 total time=   0.0s\n",
      "[CV 3/5] END ......C=10, gamma=auto, kernel=rbf;, score=0.692 total time=   0.0s\n",
      "[CV 4/5] END ......C=10, gamma=auto, kernel=rbf;, score=0.407 total time=   0.0s\n",
      "[CV 5/5] END ......C=10, gamma=auto, kernel=rbf;, score=0.520 total time=   0.0s\n",
      "[CV 1/5] END C=10, gamma=auto, kernel=sigmoid;, score=-18.375 total time=   0.0s\n",
      "[CV 2/5] END C=10, gamma=auto, kernel=sigmoid;, score=-18.899 total time=   0.0s\n",
      "[CV 3/5] END C=10, gamma=auto, kernel=sigmoid;, score=-22.668 total time=   0.0s\n",
      "[CV 4/5] END C=10, gamma=auto, kernel=sigmoid;, score=-33.251 total time=   0.0s\n",
      "[CV 5/5] END C=10, gamma=auto, kernel=sigmoid;, score=-21.611 total time=   0.0s\n",
      "[CV 1/5] END .C=100, gamma=scale, kernel=linear;, score=0.247 total time=   0.0s\n",
      "[CV 2/5] END .C=100, gamma=scale, kernel=linear;, score=0.532 total time=   0.0s\n",
      "[CV 3/5] END .C=100, gamma=scale, kernel=linear;, score=0.705 total time=   0.0s\n",
      "[CV 4/5] END .C=100, gamma=scale, kernel=linear;, score=0.373 total time=   0.0s\n",
      "[CV 5/5] END .C=100, gamma=scale, kernel=linear;, score=0.650 total time=   0.0s\n",
      "[CV 1/5] END ...C=100, gamma=scale, kernel=poly;, score=0.058 total time=   0.0s\n",
      "[CV 2/5] END ...C=100, gamma=scale, kernel=poly;, score=0.301 total time=   0.0s\n",
      "[CV 3/5] END ..C=100, gamma=scale, kernel=poly;, score=-0.101 total time=   0.0s\n",
      "[CV 4/5] END ...C=100, gamma=scale, kernel=poly;, score=0.011 total time=   0.0s\n",
      "[CV 5/5] END ...C=100, gamma=scale, kernel=poly;, score=0.510 total time=   0.0s\n",
      "[CV 1/5] END ....C=100, gamma=scale, kernel=rbf;, score=0.134 total time=   0.0s\n",
      "[CV 2/5] END ....C=100, gamma=scale, kernel=rbf;, score=0.578 total time=   0.0s\n",
      "[CV 3/5] END ....C=100, gamma=scale, kernel=rbf;, score=0.735 total time=   0.0s\n",
      "[CV 4/5] END ....C=100, gamma=scale, kernel=rbf;, score=0.459 total time=   0.0s\n",
      "[CV 5/5] END ....C=100, gamma=scale, kernel=rbf;, score=0.367 total time=   0.0s\n",
      "[CV 1/5] END C=100, gamma=scale, kernel=sigmoid;, score=-1043.535 total time=   0.0s\n",
      "[CV 2/5] END C=100, gamma=scale, kernel=sigmoid;, score=-1368.272 total time=   0.0s\n",
      "[CV 3/5] END C=100, gamma=scale, kernel=sigmoid;, score=-2069.384 total time=   0.0s\n",
      "[CV 4/5] END C=100, gamma=scale, kernel=sigmoid;, score=-1270.221 total time=   0.0s\n",
      "[CV 5/5] END C=100, gamma=scale, kernel=sigmoid;, score=-1596.027 total time=   0.0s\n",
      "[CV 1/5] END ..C=100, gamma=auto, kernel=linear;, score=0.247 total time=   0.0s\n",
      "[CV 2/5] END ..C=100, gamma=auto, kernel=linear;, score=0.532 total time=   0.0s\n",
      "[CV 3/5] END ..C=100, gamma=auto, kernel=linear;, score=0.705 total time=   0.0s\n",
      "[CV 4/5] END ..C=100, gamma=auto, kernel=linear;, score=0.373 total time=   0.0s\n",
      "[CV 5/5] END ..C=100, gamma=auto, kernel=linear;, score=0.650 total time=   0.0s\n",
      "[CV 1/5] END ...C=100, gamma=auto, kernel=poly;, score=-0.061 total time=   0.1s\n",
      "[CV 2/5] END ....C=100, gamma=auto, kernel=poly;, score=0.343 total time=   0.0s\n",
      "[CV 3/5] END ....C=100, gamma=auto, kernel=poly;, score=0.334 total time=   0.0s\n",
      "[CV 4/5] END ....C=100, gamma=auto, kernel=poly;, score=0.081 total time=   0.1s\n",
      "[CV 5/5] END ....C=100, gamma=auto, kernel=poly;, score=0.485 total time=   0.1s\n",
      "[CV 1/5] END .....C=100, gamma=auto, kernel=rbf;, score=0.115 total time=   0.0s\n",
      "[CV 2/5] END .....C=100, gamma=auto, kernel=rbf;, score=0.519 total time=   0.0s\n",
      "[CV 3/5] END .....C=100, gamma=auto, kernel=rbf;, score=0.660 total time=   0.0s\n",
      "[CV 4/5] END .....C=100, gamma=auto, kernel=rbf;, score=0.499 total time=   0.0s\n",
      "[CV 5/5] END .....C=100, gamma=auto, kernel=rbf;, score=0.309 total time=   0.0s\n",
      "[CV 1/5] END C=100, gamma=auto, kernel=sigmoid;, score=-1538.185 total time=   0.0s\n",
      "[CV 2/5] END C=100, gamma=auto, kernel=sigmoid;, score=-1397.181 total time=   0.0s\n",
      "[CV 3/5] END C=100, gamma=auto, kernel=sigmoid;, score=-1665.783 total time=   0.0s\n",
      "[CV 4/5] END C=100, gamma=auto, kernel=sigmoid;, score=-2574.134 total time=   0.0s\n",
      "[CV 5/5] END C=100, gamma=auto, kernel=sigmoid;, score=-1613.959 total time=   0.0s\n",
      "[CV 1/5] END C=1000, gamma=scale, kernel=linear;, score=0.246 total time=   0.0s\n",
      "[CV 2/5] END C=1000, gamma=scale, kernel=linear;, score=0.532 total time=   0.0s\n",
      "[CV 3/5] END C=1000, gamma=scale, kernel=linear;, score=0.705 total time=   0.0s\n",
      "[CV 4/5] END C=1000, gamma=scale, kernel=linear;, score=0.374 total time=   0.0s\n",
      "[CV 5/5] END C=1000, gamma=scale, kernel=linear;, score=0.650 total time=   0.0s\n",
      "[CV 1/5] END .C=1000, gamma=scale, kernel=poly;, score=-0.024 total time=   0.2s\n",
      "[CV 2/5] END ..C=1000, gamma=scale, kernel=poly;, score=0.439 total time=   0.1s\n",
      "[CV 3/5] END ..C=1000, gamma=scale, kernel=poly;, score=0.555 total time=   0.1s\n",
      "[CV 4/5] END ..C=1000, gamma=scale, kernel=poly;, score=0.205 total time=   0.1s\n",
      "[CV 5/5] END ..C=1000, gamma=scale, kernel=poly;, score=0.429 total time=   0.1s\n",
      "[CV 1/5] END ...C=1000, gamma=scale, kernel=rbf;, score=0.101 total time=   0.0s\n",
      "[CV 2/5] END ...C=1000, gamma=scale, kernel=rbf;, score=0.441 total time=   0.0s\n",
      "[CV 3/5] END ...C=1000, gamma=scale, kernel=rbf;, score=0.090 total time=   0.0s\n",
      "[CV 4/5] END ...C=1000, gamma=scale, kernel=rbf;, score=0.223 total time=   0.0s\n",
      "[CV 5/5] END ...C=1000, gamma=scale, kernel=rbf;, score=0.267 total time=   0.0s\n",
      "[CV 1/5] END C=1000, gamma=scale, kernel=sigmoid;, score=-100934.864 total time=   0.0s\n",
      "[CV 2/5] END C=1000, gamma=scale, kernel=sigmoid;, score=-130620.829 total time=   0.0s\n",
      "[CV 3/5] END C=1000, gamma=scale, kernel=sigmoid;, score=-200682.939 total time=   0.0s\n",
      "[CV 4/5] END C=1000, gamma=scale, kernel=sigmoid;, score=-124049.229 total time=   0.0s\n",
      "[CV 5/5] END C=1000, gamma=scale, kernel=sigmoid;, score=-156623.911 total time=   0.0s\n",
      "[CV 1/5] END .C=1000, gamma=auto, kernel=linear;, score=0.246 total time=   0.0s\n",
      "[CV 2/5] END .C=1000, gamma=auto, kernel=linear;, score=0.532 total time=   0.0s\n",
      "[CV 3/5] END .C=1000, gamma=auto, kernel=linear;, score=0.705 total time=   0.0s\n",
      "[CV 4/5] END .C=1000, gamma=auto, kernel=linear;, score=0.374 total time=   0.0s\n",
      "[CV 5/5] END .C=1000, gamma=auto, kernel=linear;, score=0.650 total time=   0.0s\n",
      "[CV 1/5] END ...C=1000, gamma=auto, kernel=poly;, score=0.007 total time=   1.4s\n",
      "[CV 2/5] END ...C=1000, gamma=auto, kernel=poly;, score=0.460 total time=   0.3s\n",
      "[CV 3/5] END ...C=1000, gamma=auto, kernel=poly;, score=0.611 total time=   0.4s\n",
      "[CV 4/5] END ...C=1000, gamma=auto, kernel=poly;, score=0.115 total time=   0.7s\n",
      "[CV 5/5] END ...C=1000, gamma=auto, kernel=poly;, score=0.285 total time=   0.5s\n",
      "[CV 1/5] END ...C=1000, gamma=auto, kernel=rbf;, score=-0.030 total time=   0.0s\n",
      "[CV 2/5] END ....C=1000, gamma=auto, kernel=rbf;, score=0.516 total time=   0.0s\n",
      "[CV 3/5] END ....C=1000, gamma=auto, kernel=rbf;, score=0.202 total time=   0.0s\n",
      "[CV 4/5] END ...C=1000, gamma=auto, kernel=rbf;, score=-0.018 total time=   0.0s\n",
      "[CV 5/5] END ....C=1000, gamma=auto, kernel=rbf;, score=0.220 total time=   0.0s\n",
      "[CV 1/5] END C=1000, gamma=auto, kernel=sigmoid;, score=-150010.448 total time=   0.0s\n",
      "[CV 2/5] END C=1000, gamma=auto, kernel=sigmoid;, score=-134825.333 total time=   0.0s\n",
      "[CV 3/5] END C=1000, gamma=auto, kernel=sigmoid;, score=-161423.830 total time=   0.0s\n",
      "[CV 4/5] END C=1000, gamma=auto, kernel=sigmoid;, score=-247867.767 total time=   0.0s\n",
      "[CV 5/5] END C=1000, gamma=auto, kernel=sigmoid;, score=-156919.882 total time=   0.0s\n"
     ]
    },
    {
     "data": {
      "text/plain": [
       "{'C': 100, 'gamma': 'scale', 'kernel': 'linear'}"
      ]
     },
     "execution_count": 84,
     "metadata": {},
     "output_type": "execute_result"
    }
   ],
   "source": [
    "grid=GridSearchCV(svr, param_grid, cv=5, refit=True, verbose=3)\n",
    "\n",
    "##fitting the model for grid search\n",
    "grid.fit(X_train, y_train)\n",
    "\n",
    "##best parameters for our model\n",
    "grid.best_params_\n",
    "\n",
    "##"
   ]
  },
  {
   "cell_type": "code",
   "execution_count": 86,
   "metadata": {},
   "outputs": [
    {
     "name": "stdout",
     "output_type": "stream",
     "text": [
      "Metrics for Grid Search predictions:\n",
      "R-squared score: 0.5453\n",
      "Mean Squared Error: 38.4956\n",
      "Root Mean Squared Error: 6.2045\n",
      "Mean Absolute Error: 3.9134\n"
     ]
    }
   ],
   "source": [
    "\n",
    "grid_predictions=grid.predict(X_test)\n",
    "# Calculate and print accuracy scores for grid predictions\n",
    "r2_grid = r2_score(y_test, grid_predictions)\n",
    "mse_grid = mean_squared_error(y_test, grid_predictions)\n",
    "rmse_grid = mean_squared_error(y_test, grid_predictions, squared=False)\n",
    "mae_grid = mean_absolute_error(y_test, grid_predictions)\n",
    "\n",
    "print(\"Metrics for Grid Search predictions:\")\n",
    "print(f\"R-squared score: {r2_grid:.4f}\")\n",
    "print(f\"Mean Squared Error: {mse_grid:.4f}\")\n",
    "print(f\"Root Mean Squared Error: {rmse_grid:.4f}\")\n",
    "print(f\"Mean Absolute Error: {mae_grid:.4f}\")\n"
   ]
  },
  {
   "cell_type": "code",
   "execution_count": 87,
   "metadata": {},
   "outputs": [
    {
     "data": {
      "image/png": "[encoded data removed]",
      "text/plain": [
       "<Figure size 1000x600 with 1 Axes>"
      ]
     },
     "metadata": {},
     "output_type": "display_data"
    },
    {
     "data": {
      "text/plain": [
       "'\\nThe grid search model likely improved prediction accuracy compared to the initial SVR model.\\nProcedure: Data loading and preprocessing, feature engineering, initial SVR model, \\nhyperparameter tuning with GridSearchCV, and final model evaluation with improved parameters.\\n'"
      ]
     },
     "execution_count": 87,
     "metadata": {},
     "output_type": "execute_result"
    }
   ],
   "source": [
    "# Plot the graph based on grid predictions\n",
    "plt.figure(figsize=(10, 6))\n",
    "plt.scatter(y_test, grid_predictions, color='blue', alpha=0.5)\n",
    "plt.plot([y_test.min(), y_test.max()], [y_test.min(), y_test.max()], 'r--', lw=2)\n",
    "plt.xlabel('Actual Total Bill')\n",
    "plt.ylabel('Predicted Total Bill')\n",
    "plt.title('Actual vs Predicted Total Bill (Grid Search)')\n",
    "plt.show()\n",
    "\n",
    "# Comment on the difference and procedure\n",
    "\"\"\"\n",
    "The grid search model likely improved prediction accuracy compared to the initial SVR model.\n",
    "Procedure: Data loading and preprocessing, feature engineering, initial SVR model, \n",
    "hyperparameter tuning with GridSearchCV, and final model evaluation with improved parameters.\n",
    "\"\"\"\n",
    "# Summary of the SVR model development process:\n",
    "\n",
    "# Cell 1-6: Data Loading and Exploration\n",
    "# - Loaded the dataset\n",
    "# - Displayed the first few rows of the data\n",
    "# - Checked the distribution of categorical variables (sex, smoker)\n",
    "\n",
    "# Cell 7-11: Data Preprocessing\n",
    "# - Selected features for the model\n",
    "# - Split the data into training and testing sets\n",
    "# - Performed feature scaling\n",
    "\n",
    "# Cell 12-13: Initial SVR Model\n",
    "# - Created and trained the initial SVR model\n",
    "# - Made predictions using the initial model\n",
    "\n",
    "# Cell 14-20: Model Evaluation\n",
    "# - Calculated and printed accuracy metrics (R2, MSE, RMSE, MAE)\n",
    "# - Plotted actual vs predicted values for the initial model\n",
    "\n",
    "# Cell 21-22: Hyperparameter Tuning Setup\n",
    "# - Defined the parameter grid for GridSearchCV\n",
    "# - Created the SVR model for grid search\n",
    "\n",
    "# Cell 23: Grid Search\n",
    "# - Performed GridSearchCV to find the best hyperparameters\n",
    "# - Fitted the model with the best parameters\n",
    "\n",
    "# Cell 24: Final Model Evaluation\n",
    "# - Made predictions using the grid search model\n",
    "# - Calculated and printed accuracy metrics for the grid search model\n",
    "\n",
    "# Cell 25: Visualization and Conclusion\n",
    "# - Plotted actual vs predicted values for the grid search model\n",
    "# - Commented on the difference between initial and grid search models\n",
    "# - Summarized the overall procedure\n",
    "\n",
    "# This process demonstrates a typical machine learning workflow: \n",
    "# data preparation, initial modeling, model improvement through \n",
    "# hyperparameter tuning, and final evaluation.\n"
   ]
  },
  {
   "cell_type": "code",
   "execution_count": null,
   "metadata": {},
   "outputs": [],
   "source": []
  }
 ],
 "metadata": {
  "kernelspec": {
   "display_name": "pipeline_inf_env",
   "language": "python",
   "name": "python3"
  },
  "language_info": {
   "codemirror_mode": {
    "name": "ipython",
    "version": 3
   },
   "file_extension": ".py",
   "mimetype": "text/x-python",
   "name": "python",
   "nbconvert_exporter": "python",
   "pygments_lexer": "ipython3",
   "version": "3.10.14"
  }
 },
 "nbformat": 4,
 "nbformat_minor": 2
}
